{
 "cells": [
  {
   "cell_type": "code",
   "execution_count": null,
   "metadata": {},
   "outputs": [],
   "source": [
    "# for each image:\n",
    "#       instantiate empty array of size num_pixels\n",
    "#       break into overlapping windows\n",
    "#       for each window:\n",
    "#            get label through model (baseline or CNN)\n",
    "#            map each pixel in window to that label\n",
    "#      label each pixel with its max avg label\n",
    "#      output labeled image\n"
   ]
  },
  {
   "cell_type": "code",
   "execution_count": 1,
   "metadata": {},
   "outputs": [
    {
     "name": "stderr",
     "output_type": "stream",
     "text": [
      "Using Theano backend.\n"
     ]
    }
   ],
   "source": [
    "import cv2\n",
    "import numpy as np\n",
    "import time\n",
    "import os\n",
    "import matplotlib.pyplot as plt\n",
    "import itertools\n",
    "from sklearn.metrics import confusion_matrix\n",
    "from theano import ifelse\n",
    "import keras\n",
    "from keras.datasets import mnist\n",
    "from keras.models import Sequential\n",
    "from keras.models import load_model\n",
    "from keras.layers import Dense\n",
    "from keras.layers import Dropout\n",
    "from keras.layers import Flatten\n",
    "from keras.layers.convolutional import Conv2D\n",
    "from keras.layers.convolutional import MaxPooling2D\n",
    "from keras.utils import np_utils\n",
    "from keras import backend as K\n",
    "from keras import regularizers\n",
    "K.set_image_dim_ordering('th')\n"
   ]
  },
  {
   "cell_type": "code",
   "execution_count": 105,
   "metadata": {},
   "outputs": [],
   "source": [
    "labels=[\"bark\", \"dirt\", \"dry_veg\", \"foliage\", \"grass\", \"paved\"]\n",
    "num_classes = len(labels)\n",
    "image_path = '/Users/kellyshen/Desktop/landscapes/IMG_0261.jpg'\n",
    "save_path = '/Users/kellyshen/Desktop/landscapes/outputs/IMG_0261_pred.png'\n",
    "step = 20\n",
    "colors = [\n",
    "    [255,0,0], # BlUE / BARK\n",
    "    [0,0,255], # RED / DIRT\n",
    "    [0,255,255], # YELLOW / DRY_VEG\n",
    "    [0,255,0], # GREEN / FOLIAGE\n",
    "    [255,0,255], # MAGENTA / GRASS\n",
    "    [255,255,0] # CYAN / PAVED\n",
    "]\n",
    "alpha = 0.3"
   ]
  },
  {
   "cell_type": "code",
   "execution_count": 106,
   "metadata": {},
   "outputs": [
    {
     "name": "stdout",
     "output_type": "stream",
     "text": [
      "(3024, 4032, 3)\n",
      "Img shape: (3, 3024, 4032)\n"
     ]
    }
   ],
   "source": [
    "## Get image data\n",
    "curr = cv2.imread(image_path)\n",
    "print curr.shape\n",
    "# reshape to be [samples][pixels][width][height]\n",
    "b, g, r = curr[:,:,0], curr[:,:,1], curr[:,:,2]\n",
    "img = np.stack((r, g, b), axis=0).astype('float32')/255.0 # reorder to rgb\n",
    "print(\"Img shape: {}\".format(img.shape))\n",
    "dimensions = img.shape[1:]\n",
    "num_channels = img.shape[0]"
   ]
  },
  {
   "cell_type": "code",
   "execution_count": 107,
   "metadata": {},
   "outputs": [
    {
     "name": "stdout",
     "output_type": "stream",
     "text": [
      "Setting up sliding window\n"
     ]
    }
   ],
   "source": [
    "print(\"Setting up sliding window\")\n",
    "patch_classifier = keras.models.load_model('cnn_base_model')\n",
    "patches = [img[:, row:row+100, col:col+100] for row in range(0, dimensions[0]-99, step) for col in range(0, dimensions[1]-99, step)]\n",
    "indices = [(row, col) for row in range(0, dimensions[0]-99, step) for col in range(0, dimensions[1]-99, step)]"
   ]
  },
  {
   "cell_type": "code",
   "execution_count": 108,
   "metadata": {},
   "outputs": [
    {
     "name": "stdout",
     "output_type": "stream",
     "text": [
      "Performing sliding window\n",
      "finish predict\n",
      "[  3.50324616e-44   2.25967944e-24   3.76942732e-23   3.20131536e-17\n",
      "   5.60519386e-45   1.00000000e+00]\n",
      "(28959, 6)\n"
     ]
    }
   ],
   "source": [
    "print(\"Performing sliding window\")\n",
    "preds = patch_classifier.predict(np.array(patches))\n",
    "print(\"finish predict\")\n",
    "print preds[0]\n",
    "print preds.shape"
   ]
  },
  {
   "cell_type": "code",
   "execution_count": 109,
   "metadata": {},
   "outputs": [
    {
     "name": "stdout",
     "output_type": "stream",
     "text": [
      "Getting color labeling for image\n",
      "(3024, 4032)\n",
      "5\n"
     ]
    }
   ],
   "source": [
    "print(\"Getting color labeling for image\")\n",
    "counts = np.zeros((dimensions[0],dimensions[1],num_classes),dtype=int)\n",
    "labels = np.apply_along_axis(np.argmax, 1, preds)\n",
    "for i in range(len(labels)):\n",
    "    counts[indices[i][0]:indices[i][0]+100,indices[i][1]:indices[i][1]+100,labels[i]] +=1\n",
    "pix_labels = np.argmax(counts,axis=2)\n",
    "print pix_labels.shape\n",
    "print pix_labels[88][94]"
   ]
  },
  {
   "cell_type": "code",
   "execution_count": 110,
   "metadata": {},
   "outputs": [
    {
     "name": "stdout",
     "output_type": "stream",
     "text": [
      "Overlaying color labeling\n",
      "(3024, 4032, 3)\n",
      "(3024, 4032, 3)\n"
     ]
    }
   ],
   "source": [
    "print(\"Overlaying color labeling\")\n",
    "overlay = np.zeros((dimensions[0],dimensions[1],num_channels),dtype='uint8')\n",
    "for i in range(dimensions[0]):\n",
    "    for j in range(dimensions[1]):\n",
    "        overlay[i,j,:] = colors[pix_labels[i,j]]\n",
    "print overlay.shape\n",
    "print curr.shape"
   ]
  },
  {
   "cell_type": "code",
   "execution_count": 111,
   "metadata": {},
   "outputs": [
    {
     "name": "stdout",
     "output_type": "stream",
     "text": [
      "written\n"
     ]
    }
   ],
   "source": [
    "ret = cv2.addWeighted(overlay[:dimensions[0]+1,:dimensions[1]+1,:],alpha,curr,1-alpha,0)\n",
    "cv2.imwrite(save_path, ret)\n",
    "print(\"written\")"
   ]
  },
  {
   "cell_type": "code",
   "execution_count": null,
   "metadata": {},
   "outputs": [],
   "source": []
  },
  {
   "cell_type": "code",
   "execution_count": null,
   "metadata": {},
   "outputs": [],
   "source": []
  },
  {
   "cell_type": "code",
   "execution_count": null,
   "metadata": {},
   "outputs": [],
   "source": []
  },
  {
   "cell_type": "code",
   "execution_count": null,
   "metadata": {},
   "outputs": [],
   "source": []
  },
  {
   "cell_type": "code",
   "execution_count": null,
   "metadata": {},
   "outputs": [],
   "source": []
  },
  {
   "cell_type": "code",
   "execution_count": null,
   "metadata": {},
   "outputs": [],
   "source": []
  },
  {
   "cell_type": "code",
   "execution_count": null,
   "metadata": {},
   "outputs": [],
   "source": []
  },
  {
   "cell_type": "code",
   "execution_count": null,
   "metadata": {},
   "outputs": [],
   "source": []
  },
  {
   "cell_type": "code",
   "execution_count": null,
   "metadata": {},
   "outputs": [],
   "source": []
  },
  {
   "cell_type": "code",
   "execution_count": null,
   "metadata": {},
   "outputs": [],
   "source": []
  }
 ],
 "metadata": {
  "kernelspec": {
   "display_name": "Python 2",
   "language": "python",
   "name": "python2"
  },
  "language_info": {
   "codemirror_mode": {
    "name": "ipython",
    "version": 2
   },
   "file_extension": ".py",
   "mimetype": "text/x-python",
   "name": "python",
   "nbconvert_exporter": "python",
   "pygments_lexer": "ipython2",
   "version": "2.7.13"
  }
 },
 "nbformat": 4,
 "nbformat_minor": 2
}
