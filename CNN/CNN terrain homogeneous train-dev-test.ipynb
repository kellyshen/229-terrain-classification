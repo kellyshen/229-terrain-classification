{
 "cells": [
  {
   "cell_type": "code",
   "execution_count": 1,
   "metadata": {},
   "outputs": [
    {
     "name": "stderr",
     "output_type": "stream",
     "text": [
      "Using Theano backend.\n"
     ]
    }
   ],
   "source": [
    "import cv2\n",
    "import numpy as np\n",
    "import os\n",
    "import matplotlib.pyplot as plt\n",
    "import itertools\n",
    "from sklearn.metrics import confusion_matrix\n",
    "from theano import ifelse\n",
    "import keras\n",
    "from keras.datasets import mnist\n",
    "from keras.models import Sequential\n",
    "from keras.models import load_model\n",
    "from keras.layers import Dense\n",
    "from keras.layers import Dropout\n",
    "from keras.layers import Flatten\n",
    "from keras.layers.convolutional import Conv2D\n",
    "from keras.layers.convolutional import MaxPooling2D\n",
    "from keras.utils import np_utils\n",
    "from keras import backend as K\n",
    "from keras import regularizers\n",
    "K.set_image_dim_ordering('th')"
   ]
  },
  {
   "cell_type": "code",
   "execution_count": 2,
   "metadata": {},
   "outputs": [
    {
     "name": "stdout",
     "output_type": "stream",
     "text": [
      "on test set\n",
      "bark\n",
      "dirt\n",
      "0\n",
      "dry_veg\n",
      "0\n",
      "foliage\n",
      "0\n",
      "grass\n",
      "0\n",
      "paved\n",
      "0\n",
      "on train set\n",
      "bark\n",
      "dirt\n",
      "0\n",
      "1000\n",
      "dry_veg\n",
      "0\n",
      "1000\n",
      "2000\n",
      "foliage\n",
      "0\n",
      "grass\n",
      "0\n",
      "paved\n",
      "0\n",
      "1000\n",
      "on train_aug set\n",
      "bark\n",
      "0\n",
      "1000\n",
      "2000\n",
      "3000\n",
      "4000\n",
      "5000\n",
      "dirt\n",
      "0\n",
      "1000\n",
      "2000\n",
      "3000\n",
      "4000\n",
      "5000\n",
      "6000\n",
      "7000\n",
      "8000\n",
      "9000\n",
      "10000\n",
      "11000\n",
      "dry_veg\n",
      "0\n",
      "1000\n",
      "2000\n",
      "3000\n",
      "4000\n",
      "5000\n",
      "6000\n",
      "7000\n",
      "8000\n",
      "9000\n",
      "10000\n",
      "11000\n",
      "12000\n",
      "13000\n",
      "14000\n",
      "15000\n",
      "16000\n",
      "17000\n",
      "18000\n",
      "19000\n",
      "20000\n",
      "21000\n",
      "22000\n",
      "23000\n",
      "24000\n",
      "25000\n",
      "foliage\n",
      "0\n",
      "1000\n",
      "2000\n",
      "3000\n",
      "4000\n",
      "5000\n",
      "6000\n",
      "7000\n",
      "8000\n",
      "9000\n",
      "grass\n",
      "0\n",
      "1000\n",
      "2000\n",
      "3000\n",
      "4000\n",
      "5000\n",
      "6000\n",
      "paved\n",
      "0\n",
      "1000\n",
      "2000\n",
      "3000\n",
      "4000\n",
      "5000\n",
      "6000\n",
      "7000\n",
      "8000\n",
      "9000\n",
      "10000\n",
      "11000\n",
      "12000\n",
      "13000\n",
      "on validation set\n",
      "bark\n",
      "dirt\n",
      "0\n",
      "dry_veg\n",
      "0\n",
      "foliage\n",
      "0\n",
      "grass\n",
      "0\n",
      "paved\n",
      "0\n"
     ]
    }
   ],
   "source": [
    "# excluded fallen, sand\n",
    "imgs = {}\n",
    "labels = {}\n",
    "src = '/Users/kellyshen/Desktop/229_terrain/'\n",
    "sets = os.listdir(src)[1:]\n",
    "for data in sets: # train, val, test\n",
    "    if data.startswith('.'): continue\n",
    "    print \"on {} set\".format(data)\n",
    "    img_types = os.listdir(src+data+\"/\")[1:]\n",
    "    num_classes = len(img_types)\n",
    "    for label, img_type in enumerate(img_types):\n",
    "        if img_type.startswith('.'): continue\n",
    "        print img_type\n",
    "        for i, img in enumerate(os.listdir(src+data+\"/\"+img_type+\"/\")):\n",
    "            if img.startswith('.'): continue\n",
    "            if i % 1000 == 0: print i \n",
    "            curr = cv2.imread(src+data+\"/\"+img_type+\"/\"+img)\n",
    "            # reshape to be [samples][pixels][width][height]\n",
    "            b, g, r = curr[:,:,0], curr[:,:,1], curr[:,:,2]\n",
    "            x = np.stack((r, g, b), axis=0) # reorder to rgb\n",
    "            # one hot encode labels\n",
    "            y = np.zeros(num_classes)\n",
    "            y[label] = 1.0\n",
    "            if not imgs.get(data):\n",
    "                imgs[data] = [x]\n",
    "            else:\n",
    "                imgs[data].append(x)\n",
    "            if not labels.get(data):\n",
    "                labels[data] = [y]\n",
    "            else:\n",
    "                labels[data].append(y)"
   ]
  },
  {
   "cell_type": "code",
   "execution_count": 3,
   "metadata": {
    "scrolled": true
   },
   "outputs": [
    {
     "name": "stdout",
     "output_type": "stream",
     "text": [
      "test\n",
      "(2408, 3, 100, 100)\n",
      "(2408, 6)\n",
      "train_aug\n",
      "(72150, 3, 100, 100)\n",
      "(72150, 6)\n",
      "train\n",
      "(7215, 3, 100, 100)\n",
      "(7215, 6)\n",
      "validation\n",
      "(2408, 3, 100, 100)\n",
      "(2408, 6)\n"
     ]
    }
   ],
   "source": [
    "for set_type, data in imgs.items():\n",
    "    print(set_type)\n",
    "    print(np.array(data).shape)\n",
    "    print(np.array(labels[set_type]).shape)"
   ]
  },
  {
   "cell_type": "code",
   "execution_count": 4,
   "metadata": {},
   "outputs": [],
   "source": [
    "X_train = np.array(imgs['train_aug']).astype('float32')/255.0\n",
    "X_val = np.array(imgs['validation']).astype('float32')/255.0\n",
    "X_test = np.array(imgs['test']).astype('float32')/255.0\n",
    "Y_train = np.array(labels['train_aug']).astype('float32')\n",
    "Y_val = np.array(labels['validation']).astype('float32')\n",
    "Y_test = np.array(labels['test']).astype('float32')"
   ]
  },
  {
   "cell_type": "code",
   "execution_count": 5,
   "metadata": {},
   "outputs": [],
   "source": [
    "# for name, data in [('X_train', X_train), ('X_val', X_val), ('X_test', X_test), ('Y_train', Y_train), ('Y_val', Y_val), ('Y_test', Y_test)]:\n",
    "#     np.save(name +'.npy', data)"
   ]
  },
  {
   "cell_type": "code",
   "execution_count": 6,
   "metadata": {},
   "outputs": [],
   "source": [
    "# why do we actually need this\n",
    "# np.random.seed(7)"
   ]
  },
  {
   "cell_type": "code",
   "execution_count": 3,
   "metadata": {},
   "outputs": [],
   "source": [
    "# The first hidden layer is a convolutional layer called a Convolution2D. \n",
    "# The layer has 32 feature maps, which with the size of 5×5 and a rectifier activation function. \n",
    "# This is the input layer, expecting images with the structure outline above [pixels][width][height].\n",
    "\n",
    "# Next we define a pooling layer that takes the max called MaxPooling2D. \n",
    "# It is configured with a pool size of 2×2.\n",
    "\n",
    "# The next layer is a regularization layer using dropout called Dropout. \n",
    "# It is configured to randomly exclude 20% of neurons in the layer in order to reduce overfitting.\n",
    "\n",
    "# Next is a layer that converts the 2D matrix data to a vector called Flatten. \n",
    "# It allows the output to be processed by standard fully connected layers.\n",
    "\n",
    "# Next a fully connected layer with 128 neurons and rectifier activation function.\n",
    "\n",
    "# Finally, the output layer has 10 neurons for the 10 classes \n",
    "# and a softmax activation function to output probability-like predictions for each class.\n",
    "# the model is trained using logarithmic loss and the ADAM gradient descent algorithm.\n",
    "\n",
    "def baseline_model():\n",
    "    # Create model\n",
    "    model = Sequential()\n",
    "    model.add(Conv2D(32, (5, 5), input_shape=(3, 100, 100), activation='relu'))\n",
    "    model.add(MaxPooling2D(pool_size=(2, 2)))\n",
    "    model.add(Dropout(0.2))\n",
    "    model.add(Flatten())\n",
    "    model.add(Dense(128, activation='relu'))\n",
    "    model.add(Dense(num_classes, activation='softmax'))\n",
    "    # Compile model\n",
    "    model.compile(loss='categorical_crossentropy', optimizer='adam', metrics=['accuracy'])\n",
    "    return model\n",
    "\n",
    "def baseline_model2():\n",
    "    model = Sequential() \n",
    "    model.add(Conv2D(20, (5, 5), input_shape=(3, 100, 100), activation='relu'))\n",
    "    model.add(MaxPooling2D(pool_size=(2, 2)))\n",
    "    model.add(Dropout(0.5))  \n",
    "    model.add(Flatten())\n",
    "    model.add(Dense(64, activation='relu', activity_regularizer=regularizers.l2(0.02)))\n",
    "    model.add(Dense(num_classes, activation='softmax'))\n",
    "    model.compile(loss='categorical_crossentropy', optimizer='sgd', metrics=['accuracy'])\n",
    "    return model\n",
    "\n",
    "# Convolutional layer with 30 feature maps of size 5×5.\n",
    "# Pooling layer taking the max over 2*2 patches.\n",
    "# Convolutional layer with 15 feature maps of size 3×3.\n",
    "# Pooling layer taking the max over 2*2 patches.\n",
    "# Dropout layer with a probability of 20%.\n",
    "# Flatten layer.\n",
    "# Fully connected layer with 128 neurons and rectifier activation.\n",
    "# Fully connected layer with 50 neurons and rectifier activation.\n",
    "# Output layer.\n",
    "\n",
    "def larger_model():\n",
    "    # create model\n",
    "    model = Sequential()\n",
    "    model.add(Conv2D(30, (5, 5), input_shape=(1, 28, 28), activation='relu'))\n",
    "    model.add(MaxPooling2D(pool_size=(2, 2)))\n",
    "    model.add(Conv2D(15, (3, 3), activation='relu'))\n",
    "    model.add(MaxPooling2D(pool_size=(2, 2)))\n",
    "    model.add(Dropout(0.2))\n",
    "    model.add(Flatten())\n",
    "    model.add(Dense(128, activation='relu'))\n",
    "    model.add(Dense(50, activation='relu'))\n",
    "    model.add(Dense(num_classes, activation='softmax'))\n",
    "    # Compile model\n",
    "    model.compile(loss='categorical_crossentropy', optimizer='adam', metrics=['accuracy'])\n",
    "    return model\n",
    "\n",
    "def larger_model2():\n",
    "    model = Sequential()\n",
    "    model.add(Conv2D(20, (5, 5), input_shape=(3, 100, 100), activation='relu'))\n",
    "    model.add(MaxPooling2D(pool_size=(2, 2)))\n",
    "    model.add(Conv2D(11, (3, 3), activation='relu'))\n",
    "    model.add(MaxPooling2D(pool_size=(2, 2)))\n",
    "    model.add(Dropout(0.5))\n",
    "    model.add(Flatten())\n",
    "    model.add(Dense(64, activation='relu'))\n",
    "    model.add(Dense(30, activation='relu'))\n",
    "    model.add(Dense(num_classes, activation='softmax'))\n",
    "    model.compile(loss='categorical_crossentropy', optimizer='sgd', metrics=['accuracy'])\n",
    "    return model"
   ]
  },
  {
   "cell_type": "code",
   "execution_count": 8,
   "metadata": {
    "scrolled": true
   },
   "outputs": [
    {
     "name": "stdout",
     "output_type": "stream",
     "text": [
      "Train on 72150 samples, validate on 2408 samples\n",
      "Epoch 1/10\n",
      " - 887s - loss: 1.0066 - acc: 0.6701 - val_loss: 0.3870 - val_acc: 0.8422\n",
      "Epoch 2/10\n",
      " - 952s - loss: 0.4198 - acc: 0.8447 - val_loss: 0.3488 - val_acc: 0.8675\n",
      "Epoch 3/10\n",
      " - 1023s - loss: 0.3183 - acc: 0.8822 - val_loss: 0.2960 - val_acc: 0.8825\n",
      "Epoch 4/10\n",
      " - 1005s - loss: 0.2331 - acc: 0.9158 - val_loss: 0.2888 - val_acc: 0.8816\n",
      "Epoch 5/10\n",
      " - 1008s - loss: 0.1955 - acc: 0.9281 - val_loss: 0.4571 - val_acc: 0.8335\n",
      "Epoch 6/10\n",
      " - 1036s - loss: 0.1465 - acc: 0.9476 - val_loss: 0.3604 - val_acc: 0.8708\n",
      "Epoch 7/10\n",
      " - 1022s - loss: 0.1249 - acc: 0.9559 - val_loss: 0.3647 - val_acc: 0.8800\n",
      "Epoch 8/10\n",
      " - 1039s - loss: 0.1150 - acc: 0.9597 - val_loss: 0.3045 - val_acc: 0.8995\n",
      "Epoch 9/10\n",
      " - 1050s - loss: 0.1073 - acc: 0.9636 - val_loss: 0.3280 - val_acc: 0.8929\n",
      "Epoch 10/10\n",
      " - 1114s - loss: 0.0694 - acc: 0.9770 - val_loss: 0.3831 - val_acc: 0.8862\n"
     ]
    }
   ],
   "source": [
    "model = baseline_model()\n",
    "# fit over 10 epochs with a batch size of 200.\n",
    "model.fit(X_train, Y_train, validation_data=(X_val, Y_val), epochs=10, batch_size=200, verbose=2)\n",
    "model.save('cnn_base_model') "
   ]
  },
  {
   "cell_type": "code",
   "execution_count": 9,
   "metadata": {},
   "outputs": [
    {
     "name": "stdout",
     "output_type": "stream",
     "text": [
      "CNN Error: 12.46%\n"
     ]
    }
   ],
   "source": [
    "# Final evaluation of the model\n",
    "scores = model.evaluate(X_test, Y_test, verbose=0)\n",
    "print(\"CNN Error: %.2f%%\" % (100-scores[1]*100))"
   ]
  },
  {
   "cell_type": "code",
   "execution_count": 4,
   "metadata": {
    "scrolled": true
   },
   "outputs": [
    {
     "name": "stdout",
     "output_type": "stream",
     "text": [
      "Train on 72150 samples, validate on 2408 samples\n",
      "Epoch 1/8\n",
      " - 913s - loss: 0.9581 - acc: 0.6695 - val_loss: 0.5926 - val_acc: 0.7757\n",
      "Epoch 2/8\n",
      " - 947s - loss: 0.4838 - acc: 0.8152 - val_loss: 0.3402 - val_acc: 0.8937\n",
      "Epoch 3/8\n",
      " - 1012s - loss: 0.3477 - acc: 0.8719 - val_loss: 0.3319 - val_acc: 0.8617\n",
      "Epoch 4/8\n",
      " - 1029s - loss: 0.2915 - acc: 0.8926 - val_loss: 0.3182 - val_acc: 0.8904\n",
      "Epoch 5/8\n",
      " - 1033s - loss: 0.2240 - acc: 0.9194 - val_loss: 0.2938 - val_acc: 0.8953\n",
      "Epoch 6/8\n",
      " - 1031s - loss: 0.1928 - acc: 0.9299 - val_loss: 0.3160 - val_acc: 0.8837\n",
      "Epoch 7/8\n",
      " - 988s - loss: 0.1681 - acc: 0.9387 - val_loss: 0.3259 - val_acc: 0.8937\n",
      "Epoch 8/8\n",
      " - 988s - loss: 0.1344 - acc: 0.9516 - val_loss: 0.3960 - val_acc: 0.8679\n"
     ]
    }
   ],
   "source": [
    "# num_classes = 6\n",
    "model = baseline_model()\n",
    "# fit over 10 epochs with a batch size of 200.\n",
    "model.fit(X_train, Y_train, validation_data=(X_val, Y_val), epochs=8, batch_size=200, verbose=2)\n",
    "model.save('cnn_base_model_8epoch')"
   ]
  },
  {
   "cell_type": "code",
   "execution_count": 5,
   "metadata": {},
   "outputs": [
    {
     "name": "stdout",
     "output_type": "stream",
     "text": [
      "CNN test error: 13.75%\n"
     ]
    }
   ],
   "source": [
    "scores = model.evaluate(X_test, Y_test, verbose=2)\n",
    "print(\"CNN test error: %.2f%%\" % (100-scores[1]*100))"
   ]
  },
  {
   "cell_type": "code",
   "execution_count": null,
   "metadata": {},
   "outputs": [],
   "source": []
  },
  {
   "cell_type": "code",
   "execution_count": null,
   "metadata": {},
   "outputs": [],
   "source": []
  },
  {
   "cell_type": "code",
   "execution_count": 2,
   "metadata": {},
   "outputs": [],
   "source": [
    "X_train = np.load(\"X_train.npy\")\n",
    "X_val = np.load(\"X_val.npy\")\n",
    "X_test = np.load(\"X_test.npy\")\n",
    "Y_train = np.load(\"Y_train.npy\")\n",
    "Y_val = np.load(\"Y_val.npy\")\n",
    "Y_test = np.load(\"Y_test.npy\")\n",
    "model = keras.models.load_model('cnn_base_model')\n",
    "model2 = keras.models.load_model('cnn_base_model_8epoch')"
   ]
  },
  {
   "cell_type": "code",
   "execution_count": 5,
   "metadata": {},
   "outputs": [
    {
     "name": "stdout",
     "output_type": "stream",
     "text": [
      "(2408, 3, 100, 100)\n",
      "(3, 100, 100)\n"
     ]
    }
   ],
   "source": [
    "print(X_test.shape)\n",
    "print(X_test[0].shape)"
   ]
  },
  {
   "cell_type": "code",
   "execution_count": 9,
   "metadata": {
    "scrolled": true
   },
   "outputs": [
    {
     "name": "stdout",
     "output_type": "stream",
     "text": [
      "2408/2408 [==============================] - 14s 6ms/step\n",
      "[[  9.99928594e-01   2.07283314e-13   1.79017604e-07   5.18237866e-05\n",
      "    3.69163033e-10   1.93960750e-05]\n",
      " [  9.99951065e-01   6.10521165e-17   4.89307095e-05   2.68658932e-11\n",
      "    2.34709892e-16   1.16191508e-10]\n",
      " [  3.35061178e-03   2.49811505e-10   9.96639967e-01   5.89364117e-06\n",
      "    2.98582721e-11   3.51153608e-06]\n",
      " ..., \n",
      " [  2.07315644e-23   2.96233621e-10   2.38877504e-08   5.42675105e-09\n",
      "    1.94232893e-21   1.00000000e+00]\n",
      " [  2.29450547e-09   1.90083469e-08   2.40870810e-04   2.24548991e-10\n",
      "    7.77911874e-14   9.99759078e-01]\n",
      " [  2.49298147e-08   4.68142563e-03   3.21027706e-03   3.14091099e-03\n",
      "    3.27603288e-07   9.88967061e-01]]\n"
     ]
    }
   ],
   "source": [
    "Y_pred_vecs = model.predict(X_test, verbose=1)\n",
    "# np.save('pred_Ytest_model10', Y_pred_vecs)\n",
    "print Y_pred_vecs\n",
    "\n",
    "# Y_pred_vecs_val = model.predict(X_val, verbose=1)\n",
    "# np.save('pred_Yval_model10', Y_pred_vecs_val)\n",
    "# Y_pred_vecs_train = model.predict(X_train, verbose=1)\n",
    "# np.save('pred_Ytrain_model10', Y_pred_vecs_train)\n",
    "\n",
    "# Y_pred_vecs2 = model2.predict(X_test, verbose=1)\n",
    "# Y_pred_vecs_val2 = model2.predict(X_val, verbose=1)\n",
    "# Y_pred_vecs_train2 = model2.predict(X_train, verbose=1)"
   ]
  },
  {
   "cell_type": "code",
   "execution_count": 12,
   "metadata": {},
   "outputs": [
    {
     "data": {
      "text/plain": [
       "(2408, 6)"
      ]
     },
     "execution_count": 12,
     "metadata": {},
     "output_type": "execute_result"
    }
   ],
   "source": [
    "Y_pred_vecs.shape"
   ]
  },
  {
   "cell_type": "code",
   "execution_count": 47,
   "metadata": {},
   "outputs": [
    {
     "name": "stdout",
     "output_type": "stream",
     "text": [
      "[0 0 2 ..., 5 5 5]\n"
     ]
    }
   ],
   "source": [
    "#Y_pred0 = np.apply_along_axis(np.argmax, 1, np.load('pred_Ytest_model.npy'))\n",
    "# Y_pred = np.apply_along_axis(np.argmax, 1, Y_pred_vecs)\n",
    "# Y_true = np.apply_along_axis(np.argmax, 1, Y_test)\n",
    "# print Y_pred.shape\n",
    "# print Y_true.shape\n",
    "# print Y_pred0\n",
    "# print Y_pred\n",
    "# print Y_true\n",
    "\n",
    "# Y_pred_val = np.apply_along_axis(np.argmax, 1, Y_pred_vecs_val)\n",
    "# Y_true_val = np.apply_along_axis(np.argmax, 1, Y_val)\n",
    "# print Y_pred_val\n",
    "# Y_pred_train = np.apply_along_axis(np.argmax, 1, Y_pred_vecs_train)\n",
    "# Y_true_train = np.apply_along_axis(np.argmax, 1, Y_train)\n",
    "\n",
    "# Y_pred2 = np.apply_along_axis(np.argmax, 1, Y_pred_vecs2)\n",
    "# Y_pred_val2 = np.apply_along_axis(np.argmax, 1, Y_pred_vecs_val2)\n",
    "# Y_pred_train2 = np.apply_along_axis(np.argmax, 1, Y_pred_vecs_train2)"
   ]
  },
  {
   "cell_type": "code",
   "execution_count": 44,
   "metadata": {},
   "outputs": [
    {
     "name": "stdout",
     "output_type": "stream",
     "text": [
      "[ 0.99894403  0.95585944  0.99842672  0.99969633  1.          0.9784336 ]\n",
      "[ 0.99929577  0.98343722  0.97787436  0.99656912  1.          0.99437635]\n",
      "[ 0.99911987  0.96945225  0.98804367  0.99813027  1.          0.98634056]\n",
      "[ 5680 11230 25310  9910  6150 13870]\n"
     ]
    }
   ],
   "source": [
    "from sklearn.metrics import precision_recall_fscore_support\n",
    "#scores = precision_recall_fscore_support(Y_true, Y_pred)\n",
    "#scores = precision_recall_fscore_support(Y_true_val, Y_pred_val)\n",
    "scores = precision_recall_fscore_support(Y_true_train, Y_pred_train)\n",
    "print scores[0] #precision\n",
    "print scores[1] #recall\n",
    "print scores[2] #f1\n",
    "print scores[3] #support, number of occurrences of each label in y_true"
   ]
  },
  {
   "cell_type": "code",
   "execution_count": 51,
   "metadata": {
    "scrolled": true
   },
   "outputs": [
    {
     "name": "stdout",
     "output_type": "stream",
     "text": [
      "[  5682.  11554.  24789.   9879.   6150.  14096.]\n",
      "[  5680.  11230.  25310.   9910.   6150.  13870.]\n"
     ]
    }
   ],
   "source": [
    "# counts_pred1 = []\n",
    "# for i in set(Y_pred):\n",
    "#     counts_pred1.append(np.count_nonzero(Y_pred==i))\n",
    "# print(counts_pred1)\n",
    "# Y_pred_enc = np.zeros((len(Y_pred_vecs), 6))\n",
    "# Y_pred_enc[np.arange(len(Y_pred_vecs)), Y_pred] = 1 \n",
    "# print Y_pred_enc\n",
    "\n",
    "# counts_pred = np.apply_along_axis(sum, 0, Y_pred_enc)\n",
    "# counts = np.apply_along_axis(sum, 0, Y_test)\n",
    "# print counts_pred\n",
    "# print counts\n",
    "\n",
    "# conf = confusion_matrix(Y_true, Y_pred)\n",
    "# print conf\n",
    "# conf_val = confusion_matrix(Y_true_val, Y_pred_val)\n",
    "# print conf_val\n",
    "# conf_train = confusion_matrix(Y_true_train, Y_pred_train)\n",
    "# print conf_train\n",
    "# conf2 = confusion_matrix(Y_true, Y_pred2)\n",
    "# print conf2\n",
    "# conf_val2 = confusion_matrix(Y_true_val, Y_pred_val2)\n",
    "# print conf_val2\n",
    "# conf_train2 = confusion_matrix(Y_true_train, Y_pred_train2)\n",
    "# print conf_train2"
   ]
  },
  {
   "cell_type": "code",
   "execution_count": 32,
   "metadata": {},
   "outputs": [
    {
     "data": {
      "image/png": "[encoded data removed]",
      "text/plain": [
       "<matplotlib.figure.Figure at 0x13668dd10>"
      ]
     },
     "metadata": {},
     "output_type": "display_data"
    }
   ],
   "source": [
    "cm = conf_train # change\n",
    "\n",
    "normalize = False\n",
    "if normalize:\n",
    "    cm = cm.astype('float') / cm.sum(axis=1)[:, np.newaxis] \n",
    "labels=[\"Bark\", \"Dirt\", \"Dry Veg\", \"Green Veg\", \"Grass\", \"Pavement\"]\n",
    "fig = plt.figure(figsize = (10,7))\n",
    "ax = fig.add_subplot(111)\n",
    "cax = ax.matshow(cm) \n",
    "plt.title('Confusion matrix (Train)') # change\n",
    "fig.colorbar(cax)\n",
    "ax.set_xticklabels([''] + labels)\n",
    "ax.set_yticklabels([''] + labels)\n",
    "fmt = '.2f' if normalize else 'd'\n",
    "for i, j in itertools.product(range(cm.shape[0]), range(cm.shape[1])):\n",
    "    plt.text(j, i, format(cm[i, j], fmt),\n",
    "             horizontalalignment=\"center\", color=\"white\")\n",
    "plt.xlabel('Predicted')\n",
    "plt.ylabel('True')\n",
    "plt.savefig('conf model10 train') # change\n",
    "plt.show()"
   ]
  },
  {
   "cell_type": "code",
   "execution_count": 3,
   "metadata": {},
   "outputs": [],
   "source": []
  },
  {
   "cell_type": "code",
   "execution_count": 23,
   "metadata": {},
   "outputs": [],
   "source": []
  },
  {
   "cell_type": "code",
   "execution_count": null,
   "metadata": {},
   "outputs": [],
   "source": [
    "\n",
    "\n"
   ]
  },
  {
   "cell_type": "code",
   "execution_count": null,
   "metadata": {},
   "outputs": [],
   "source": [
    "\n"
   ]
  },
  {
   "cell_type": "code",
   "execution_count": null,
   "metadata": {},
   "outputs": [],
   "source": []
  },
  {
   "cell_type": "code",
   "execution_count": null,
   "metadata": {},
   "outputs": [],
   "source": []
  },
  {
   "cell_type": "code",
   "execution_count": null,
   "metadata": {},
   "outputs": [],
   "source": []
  },
  {
   "cell_type": "code",
   "execution_count": null,
   "metadata": {},
   "outputs": [],
   "source": []
  },
  {
   "cell_type": "code",
   "execution_count": null,
   "metadata": {},
   "outputs": [],
   "source": []
  }
 ],
 "metadata": {
  "kernelspec": {
   "display_name": "Python 2",
   "language": "python",
   "name": "python2"
  },
  "language_info": {
   "codemirror_mode": {
    "name": "ipython",
    "version": 2
   },
   "file_extension": ".py",
   "mimetype": "text/x-python",
   "name": "python",
   "nbconvert_exporter": "python",
   "pygments_lexer": "ipython2",
   "version": "2.7.13"
  }
 },
 "nbformat": 4,
 "nbformat_minor": 2
}
